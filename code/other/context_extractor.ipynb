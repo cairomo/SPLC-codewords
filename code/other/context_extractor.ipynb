{
 "cells": [
  {
   "cell_type": "code",
   "execution_count": 20,
   "metadata": {},
   "outputs": [],
   "source": [
    "import pandas as pd\n",
    "import numpy as np\n",
    "import os\n",
    "import collections\n",
    "import re"
   ]
  },
  {
   "cell_type": "code",
   "execution_count": 32,
   "metadata": {},
   "outputs": [],
   "source": [
    "codes = pd.read_excel(\"codewords.xlsx\", header=None)\n",
    "codes = list(codes[0].astype(str))"
   ]
  },
  {
   "cell_type": "code",
   "execution_count": 3,
   "metadata": {},
   "outputs": [],
   "source": [
    "files = [os.path.join(dp, f) for dp, dn, fn in os.walk(os.path.expanduser(\"./\")) for f in fn if \".csv\" in f]"
   ]
  },
  {
   "cell_type": "code",
   "execution_count": 5,
   "metadata": {},
   "outputs": [],
   "source": [
    "df = pd.read_csv(files[2])"
   ]
  },
  {
   "cell_type": "code",
   "execution_count": 7,
   "metadata": {},
   "outputs": [],
   "source": [
    "for _ in files[3:]:\n",
    "    temp = pd.read_csv(_)\n",
    "    df = df.append(temp).reset_index().drop(columns=['index'])"
   ]
  },
  {
   "cell_type": "code",
   "execution_count": 11,
   "metadata": {},
   "outputs": [],
   "source": [
    "messages = df[['Message Content']].dropna()"
   ]
  },
  {
   "cell_type": "code",
   "execution_count": 37,
   "metadata": {
    "collapsed": true
   },
   "outputs": [
    {
     "name": "stdout",
     "output_type": "stream",
     "text": [
      "\\(\\(\\(\n",
      "\\)\\)\\)\n",
      "monkey\n",
      "👌\n",
      "🥛\n",
      "milk\n",
      "lactose\n",
      "\\(\\(\\(\\)\\)\\)\n",
      "0.03\n",
      "0.13\n",
      "0.41\n",
      "0.56\n",
      "109\n",
      "1290\n",
      "1488\n",
      "ally\n",
      "alt-christianity\n",
      "alt-center\n",
      "alt-left\n",
      "alt-right\n",
      "alt-lite\n",
      "alt-south\n",
      "alt-tech\n",
      "le american bear\n",
      "americaner\n",
      "ammosexual\n",
      "apu\n",
      "attack helicopter\n",
      "autistic dark web\n",
      "autistic screeching\n",
      "based\n",
      "beta\n",
      "blood and soil\n",
      "blue\n",
      "blueish\n",
      "boogaloo\n",
      "bop\n",
      "brownshirt\n",
      "bugman\n",
      "coal burner\n",
      "shoah\n",
      "jidf\n",
      "glow\n",
      "kneegrow\n",
      "pajeet\n",
      "hackenkreuz\n",
      "honeypot\n",
      "monkey\n",
      "roach\n",
      "amerimutt\n",
      "americlap\n",
      "amerikek\n",
      "americhad\n",
      "eastern\n",
      "albanian\n",
      "serb\n",
      "yugoslavia\n",
      "redpill\n",
      "mondo\n",
      "milkies\n",
      "brap\n",
      "chetnik\n",
      "rcc\n",
      "\\/r\\/sargonofakkad\n",
      "soyboy\n",
      "brainlet\n",
      "sperg\n",
      "\\/pol\\/\n",
      "r9k\n",
      "goybeast\n",
      "goybest\n",
      "gaymen\n",
      "onion\n",
      "____-let\n",
      "hairlet\n",
      "eyelet\n",
      "wmbf\n",
      "pulling porkies\n",
      "oven dodger\n",
      "frog\n",
      "twigged\n",
      "FvD\n",
      "geert wilders\n",
      "khhv\n",
      "feelio\n",
      "britbong\n",
      "bong\n",
      "\\/hpg\\/\n",
      "newfag\n",
      "alt\n",
      "infected mushroom\n",
      "o\\/\\/\n",
      "\\\\\\\\o\n",
      "greaseball\n",
      "wizardchan\n",
      "fremont\n",
      "lauren southern\n",
      "abp\n",
      "atom\n",
      "shekelberg\n",
      "manlit\n",
      "mgtow\n",
      "ruskies\n",
      "yuro\n",
      "yurop\n",
      "europoor\n",
      "polack\n",
      "spurdo\n",
      "effay\n",
      "kanker\n",
      "kangz\n",
      "topkek\n"
     ]
    }
   ],
   "source": [
    "for _ in codes:\n",
    "    print(_)\n",
    "    contains_code = messages[messages['Message Content'].str.lower().str.contains(_.lower())]\n",
    "    if len(contains_code) > 0:\n",
    "        contains_code.to_csv(\"context/\" + re.sub(r'[#\\/\\\\?!,]','',_) + \".csv\", index=False, encoding='utf-8')\n",
    "#         print(contains_code[\"Message Content\"])\n",
    "#     print('')"
   ]
  },
  {
   "cell_type": "code",
   "execution_count": null,
   "metadata": {},
   "outputs": [],
   "source": []
  }
 ],
 "metadata": {
  "kernelspec": {
   "display_name": "Python 3",
   "language": "python",
   "name": "python3"
  },
  "language_info": {
   "codemirror_mode": {
    "name": "ipython",
    "version": 3
   },
   "file_extension": ".py",
   "mimetype": "text/x-python",
   "name": "python",
   "nbconvert_exporter": "python",
   "pygments_lexer": "ipython3",
   "version": "3.7.3"
  }
 },
 "nbformat": 4,
 "nbformat_minor": 2
}
